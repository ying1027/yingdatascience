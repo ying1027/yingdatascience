{
 "cells": [
  {
   "cell_type": "code",
   "execution_count": 1,
   "id": "e001b49c",
   "metadata": {},
   "outputs": [],
   "source": [
    "import pandas as pd\n",
    "import numpy as np\n",
    "import matplotlib.pyplot as plt\n",
    "from sklearn.model_selection import train_test_split\n",
    "from sklearn.model_selection import RandomizedSearchCV\n",
    "from sklearn.preprocessing import OneHotEncoder\n",
    "from sklearn.preprocessing import StandardScaler\n",
    "from sklearn.linear_model import LogisticRegression\n",
    "from sklearn import ensemble\n",
    "from xgboost import XGBClassifier\n",
    "import warnings\n",
    "\n",
    "warnings.filterwarnings('ignore')\n",
    "\n",
    "train = pd.read_csv(\"train.csv\")\n",
    "test = pd.read_csv(\"test.csv\")\n",
    "\n",
    "# 處理訓練資料的國家資訊\n",
    "geo = pd.get_dummies(train[\"Geography\"])\n",
    "train = pd.concat([train, geo], axis = 1)\n",
    "\n",
    "# 處理訓練資料的性別資訊\n",
    "gen = OneHotEncoder(sparse = False)\n",
    "train[\"Gender\"] = gen.fit_transform(train[[\"Gender\"]])\n",
    "\n",
    "# 選取訓練資料的變數\n",
    "x = train[[\"CreditScore\", \"Gender\", \"Tenure\", \"Balance\", \"NumOfProducts\",\n",
    "           \"HasCrCard\", \"IsActiveMember\", \"EstimatedSalary\", \"France\", \"Germany\", \"Spain\"]].values\n",
    "y = train[\"Exited\"].values\n",
    "\n",
    "# 處理測試資料的國家資訊\n",
    "geo_test = pd.get_dummies(test[\"Geography\"])\n",
    "test = pd.concat([test, geo_test], axis = 1)\n",
    "\n",
    "# 處理測試資料的性別資訊\n",
    "gen_test = OneHotEncoder(sparse = False)\n",
    "test[\"Gender\"] = gen_test.fit_transform(test[[\"Gender\"]])\n",
    "\n",
    "# 選取測試資料的變數\n",
    "x_test = test[[\"CreditScore\", \"Gender\", \"Tenure\", \"Balance\", \"NumOfProducts\",\n",
    "           \"HasCrCard\", \"IsActiveMember\", \"EstimatedSalary\", \"France\", \"Germany\", \"Spain\"]].values\n",
    "\n",
    "# 標準化\n",
    "scaler = StandardScaler()\n",
    "x = scaler.fit_transform(x)"
   ]
  },
  {
   "cell_type": "code",
   "execution_count": 2,
   "id": "8fa99534",
   "metadata": {},
   "outputs": [
    {
     "data": {
      "text/plain": [
       "0.79575"
      ]
     },
     "execution_count": 2,
     "metadata": {},
     "output_type": "execute_result"
    }
   ],
   "source": [
    "# logistic regression\n",
    "\n",
    "LRclassifier = LogisticRegression()\n",
    "LRclassifier = LRclassifier.fit(x, y)\n",
    "\n",
    "# 預測並儲存結果\n",
    "result = LRclassifier.predict(x_test)\n",
    "\n",
    "result = pd.Series(result, name = \"Exited\")\n",
    "result = result.to_frame()\n",
    "\n",
    "out = pd.concat([test[[\"RowNumber\"]], result], axis = 1)\n",
    "out.to_csv(\"logistic_regression.csv\")\n",
    "\n",
    "# 評估訓練資料的準確度\n",
    "LRclassifier.score(x, y)"
   ]
  },
  {
   "cell_type": "code",
   "execution_count": 9,
   "id": "3a0f79d3",
   "metadata": {},
   "outputs": [
    {
     "data": {
      "text/plain": [
       "0.85375"
      ]
     },
     "execution_count": 9,
     "metadata": {},
     "output_type": "execute_result"
    }
   ],
   "source": [
    "# random forest\n",
    "\n",
    "RFclassifier = ensemble.RandomForestClassifier(n_estimators = 10, min_samples_leaf = 9, max_features = \"sqrt\")\n",
    "RFclassifier = RFclassifier.fit(x, y)\n",
    "\n",
    "# 預測並儲存結果\n",
    "result = RFclassifier.predict(x_test)\n",
    "\n",
    "result = pd.Series(result, name = \"Exited\")\n",
    "result = result.to_frame()\n",
    "\n",
    "out = pd.concat([test[[\"RowNumber\"]], result], axis = 1)\n",
    "out.to_csv(\"random_forest.csv\")\n",
    "\n",
    "# 評估訓練資料的準確度\n",
    "RFclassifier.score(x, y)"
   ]
  },
  {
   "cell_type": "code",
   "execution_count": 13,
   "id": "7ed10fc6",
   "metadata": {},
   "outputs": [
    {
     "data": {
      "text/plain": [
       "0.865"
      ]
     },
     "execution_count": 13,
     "metadata": {},
     "output_type": "execute_result"
    }
   ],
   "source": [
    "# xgboost\n",
    "\n",
    "XGBclassifier = XGBClassifier(verbosity = 0, subsample = 0.5, min_child_weight = 5,\n",
    "                              max_depth = 8, gamma = 7, eta = 0.8)\n",
    "XGBclassifier = XGBclassifier.fit(x, y)\n",
    "\n",
    "# 預測並儲存結果\n",
    "result = XGBclassifier.predict(x_test)\n",
    "\n",
    "result = pd.Series(result, name = \"Exited\")\n",
    "result = result.to_frame()\n",
    "\n",
    "out = pd.concat([test[[\"RowNumber\"]], result], axis = 1)\n",
    "out.to_csv(\"random_forest.csv\")\n",
    "\n",
    "# 評估訓練資料的準確度\n",
    "XGBclassifier.score(x, y)"
   ]
  }
 ],
 "metadata": {
  "kernelspec": {
   "display_name": "Python 3",
   "language": "python",
   "name": "python3"
  },
  "language_info": {
   "codemirror_mode": {
    "name": "ipython",
    "version": 3
   },
   "file_extension": ".py",
   "mimetype": "text/x-python",
   "name": "python",
   "nbconvert_exporter": "python",
   "pygments_lexer": "ipython3",
   "version": "3.8.8"
  }
 },
 "nbformat": 4,
 "nbformat_minor": 5
}
